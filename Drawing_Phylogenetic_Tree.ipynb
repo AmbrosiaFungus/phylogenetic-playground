{
 "cells": [
  {
   "cell_type": "code",
   "execution_count": null,
   "metadata": {},
   "outputs": [],
   "source": [
    "from ete3 import Tree\n",
    "from ete3 import PhyloTree\n",
    "from ete3 import Tree, TreeStyle, faces, AttrFace, NodeStyle"
   ]
  },
  {
   "cell_type": "code",
   "execution_count": null,
   "metadata": {},
   "outputs": [],
   "source": [
    "#Load in our tree\n",
    "\n",
    "Raff = PhyloTree('partition.nxs.treefile')"
   ]
  },
  {
   "cell_type": "code",
   "execution_count": null,
   "metadata": {},
   "outputs": [],
   "source": [
    "print(Raff)"
   ]
  },
  {
   "cell_type": "code",
   "execution_count": null,
   "metadata": {},
   "outputs": [],
   "source": [
    "#Select Nodes i want to delete\n",
    "Ophiostoma_seticole = Raff.search_nodes(name=\"Ophiostoma_seticolle\")[0]\n",
    "Raffaelea_castellani = Raff.search_nodes(name=\"Raffaelea_castellanii\")[0]"
   ]
  },
  {
   "cell_type": "code",
   "execution_count": null,
   "metadata": {},
   "outputs": [],
   "source": [
    "#delete the nodes I don't want\n",
    "Ophiostoma_seticole.delete()\n",
    "Raffaelea_castellani.delete()"
   ]
  },
  {
   "cell_type": "code",
   "execution_count": null,
   "metadata": {},
   "outputs": [],
   "source": [
    "#delete nodes supported less than 70% in Bootstrap\n",
    "for node in Raff.get_descendants():\n",
    "    if not node.is_leaf() and node.support <= 70:\n",
    "        node.delete()"
   ]
  },
  {
   "cell_type": "code",
   "execution_count": null,
   "metadata": {},
   "outputs": [],
   "source": [
    "#\n",
    "\n",
    "# for leaf in Raff:\n",
    "#     leaf.add_face(AttrFace(\"name\", fsize=20), column=0)"
   ]
  },
  {
   "cell_type": "code",
   "execution_count": null,
   "metadata": {},
   "outputs": [],
   "source": [
    "#Give colors to nodes having a specific name\n",
    "\n",
    "\n",
    "ns1 = NodeStyle() \n",
    "ns1[\"bgcolor\"]=\"red\" \n",
    "\n",
    "ns2 = NodeStyle() \n",
    "ns2[\"bgcolor\"]=\"blue\" \n",
    "\n",
    "\n",
    "ns3 = NodeStyle() \n",
    "ns3[\"bgcolor\"]=\"orange\" \n",
    "\n",
    "ns4 = NodeStyle() \n",
    "ns4[\"bgcolor\"]=\"green\" \n",
    "\n",
    "\n",
    "\n",
    "for node in Raff.traverse(): \n",
    "    if node.is_leaf() and node.name.startswith(\"Raffaelea\"):\n",
    "        node.img_style[\"bgcolor\"] = \"#9db0cf\"\n"
   ]
  },
  {
   "cell_type": "code",
   "execution_count": null,
   "metadata": {},
   "outputs": [],
   "source": [
    "if node.is_leaf() and node.name.startswith(\"Hsa\"):\n",
    "        node.img_style[\"bgcolor\"] = \"#9db0cf\"\n"
   ]
  },
  {
   "cell_type": "code",
   "execution_count": null,
   "metadata": {},
   "outputs": [],
   "source": [
    "leaves = Raff.get_leaves()"
   ]
  },
  {
   "cell_type": "code",
   "execution_count": null,
   "metadata": {},
   "outputs": [],
   "source": [
    "#color leafs of a tree\n",
    "\n",
    "Raff_leaf_color = {\"Raff\":\"red\", \"b\":\"green\"}\n",
    "for node in tree.traverse():\n",
    "    # Hide node circles\n",
    "    node.img_style['size'] = 0\n",
    "    if node.is_leaf():\n",
    "        color = D_leaf_color.get(node.name, None)\n",
    "        if color:\n",
    "            name_face = TextFace(node.name, fgcolor=color, fsize=10)\n",
    "            node.add_face(name_face, column=0, position='branch-right')"
   ]
  },
  {
   "cell_type": "code",
   "execution_count": null,
   "metadata": {},
   "outputs": [],
   "source": [
    "from ete3 import TreeStyle\n",
    "\n",
    "ts = TreeStyle()\n",
    "ts.show_branch_length = False # show branch length\n",
    "ts.show_branch_support = True # show support\n",
    "ts.show_leaf_name = False\n",
    "ts.branch_vertical_margin = 1 # 10 pixels between adjacent branches\n",
    "ts.scale =  2000 # 120 pixels per branch length unit\n",
    "\n",
    "Raff.render('tree2.png', tree_style=ts, dpi=600)"
   ]
  },
  {
   "cell_type": "code",
   "execution_count": null,
   "metadata": {},
   "outputs": [],
   "source": [
    "t.prune([\"H\",\"F\",\"E\",\"Q\", \"P\"])\n"
   ]
  },
  {
   "cell_type": "code",
   "execution_count": null,
   "metadata": {},
   "outputs": [],
   "source": []
  }
 ],
 "metadata": {
  "kernelspec": {
   "display_name": "Python 3",
   "language": "python",
   "name": "python3"
  },
  "language_info": {
   "codemirror_mode": {
    "name": "ipython",
    "version": 3
   },
   "file_extension": ".py",
   "mimetype": "text/x-python",
   "name": "python",
   "nbconvert_exporter": "python",
   "pygments_lexer": "ipython3",
   "version": "3.5.3"
  }
 },
 "nbformat": 4,
 "nbformat_minor": 2
}
